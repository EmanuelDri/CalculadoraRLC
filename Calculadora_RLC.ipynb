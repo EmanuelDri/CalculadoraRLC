{
  "nbformat": 4,
  "nbformat_minor": 0,
  "metadata": {
    "colab": {
      "name": "Calculadora RLC.ipynb",
      "provenance": [],
      "collapsed_sections": [],
      "include_colab_link": true
    },
    "kernelspec": {
      "name": "python3",
      "display_name": "Python 3"
    }
  },
  "cells": [
    {
      "cell_type": "markdown",
      "metadata": {
        "id": "view-in-github",
        "colab_type": "text"
      },
      "source": [
        "<a href=\"https://colab.research.google.com/github/EmanuelDri/CalculadoraRLC/blob/main/Calculadora_RLC.ipynb\" target=\"_parent\"><img src=\"https://colab.research.google.com/assets/colab-badge.svg\" alt=\"Open In Colab\"/></a>"
      ]
    },
    {
      "cell_type": "markdown",
      "metadata": {
        "id": "VrCNn76vsXX5"
      },
      "source": [
        "# Calculadora de circuitos RLC en serie\n",
        "\n",
        "```\n",
        "Cambiar los datos y ejecutar de a una las celdas o presionar CTRL+F9\n",
        "(Los resultados se muestran al final del notebook)\n",
        "```\n"
      ]
    },
    {
      "cell_type": "code",
      "metadata": {
        "id": "_-oV6mdxN8ks",
        "cellView": "form"
      },
      "source": [
        "#@title Datos de entrada\n",
        "fem_maxima =  1#@param {type:\"number\"}\n",
        "frecuencia =  500#@param {type:\"number\"}\n",
        "resistencia =  100#@param {type:\"number\"}\n",
        "inductancia =  0.001#@param {type:\"number\"}\n",
        "capacitancia =  200#@param {type:\"number\"}\n",
        "multiplo_capacitancia = \"uF\" #@param [\"F\", \"uF\", \"nF\", \"pF\", \"fF\"]\n"
      ],
      "execution_count": 1,
      "outputs": []
    },
    {
      "cell_type": "markdown",
      "metadata": {
        "id": "uN3f11dqs_6e"
      },
      "source": [
        "# Código fuente de los cálculos"
      ]
    },
    {
      "cell_type": "code",
      "metadata": {
        "id": "Vbv9f8MHn_Y8",
        "cellView": "form"
      },
      "source": [
        "#@title Importar librerías\n",
        "import numpy as np\n",
        "from matplotlib import pyplot\n",
        "#from google.colab import drive\n",
        "#from decimal import Decimal"
      ],
      "execution_count": 2,
      "outputs": []
    },
    {
      "cell_type": "code",
      "metadata": {
        "id": "A6HC5QjyNi7Y",
        "cellView": "form"
      },
      "source": [
        "#@title Conversión de unidades\n",
        "conversor_multiplos={\"F\":1,\"uF\":1e6,\"nF\":1e9,\"pF\":1e12,\"fF\":1e15}\n",
        "capacitancia=capacitancia/conversor_multiplos[multiplo_capacitancia]"
      ],
      "execution_count": 3,
      "outputs": []
    },
    {
      "cell_type": "code",
      "metadata": {
        "id": "bjXHvZVn6TiZ",
        "cellView": "form"
      },
      "source": [
        "#@title Cálculo de impedancias\n",
        "# IMPEDNACIAS INDEUCTIVA, CAPACITIVA Y Z\n",
        "# calculamos la frecuencia angular\n",
        "omega = 2*np.pi*frecuencia\n",
        "\n",
        "# determinamos las impedancias inductiva y capacitiva\n",
        "# impedancia inductiva\n",
        "if inductancia > 0:\n",
        "  impedancia_inductiva = omega*inductancia\n",
        "else:\n",
        "  impedancia_inductiva = 0\n",
        "#impedancia capacitiva\n",
        "if capacitancia > 0:\n",
        "  impedancia_capacitiva = 1/(omega*capacitancia)\n",
        "else:\n",
        "  impedancia_capacitiva = 0\n",
        "\n",
        "# calculamos la impedancia z\n",
        "z = np.sqrt(np.power(resistencia, 2)+ np.power(impedancia_inductiva - impedancia_capacitiva, 2))"
      ],
      "execution_count": 4,
      "outputs": []
    },
    {
      "cell_type": "code",
      "metadata": {
        "id": "slQwo97K-qxj",
        "cellView": "form"
      },
      "source": [
        "#@title Cálculo de Imax\n",
        "# INTENSIDAD MÁXIMA\n",
        "\n",
        "intensidad_maxima = fem_maxima/z"
      ],
      "execution_count": 5,
      "outputs": []
    },
    {
      "cell_type": "code",
      "metadata": {
        "id": "o_-f-2ogEdTO",
        "cellView": "form"
      },
      "source": [
        "#@title Diferencia de potencial entre componentes\n",
        "# DIFERENCIA DE POTENCIAL ENTRE COMPONENTES\n",
        "\n",
        "voltaje_resistencia = intensidad_maxima * resistencia\n",
        "voltaje_inductancia =intensidad_maxima * impedancia_inductiva\n",
        "voltaje_capacitancia = intensidad_maxima * impedancia_capacitiva"
      ],
      "execution_count": 6,
      "outputs": []
    },
    {
      "cell_type": "code",
      "metadata": {
        "id": "rwD8Dx2Q_fKh",
        "cellView": "form"
      },
      "source": [
        "#@title Potencia media\n",
        "# POTENCIA MEDIA\n",
        "\n",
        "intensidad_rms = intensidad_maxima/np.sqrt(2)\n",
        "potencia_media = np.power(intensidad_rms, 2)*resistencia"
      ],
      "execution_count": 7,
      "outputs": []
    },
    {
      "cell_type": "code",
      "metadata": {
        "id": "lHV2ZvNoAFD2",
        "cellView": "form"
      },
      "source": [
        "#@title Frecuencia de resonancia\n",
        "# FRECUENCIA DE RESONANCIA\n",
        "frecuencia_resonancia = 0\n",
        "if (inductancia != 0 and capacitancia != 0):\n",
        "  frecuencia_angular_resonancia = 1/np.sqrt(inductancia*capacitancia)\n",
        "  frecuencia_resonancia = frecuencia_angular_resonancia/(2*np.pi)"
      ],
      "execution_count": 8,
      "outputs": []
    },
    {
      "cell_type": "code",
      "metadata": {
        "id": "RjNPXxIJCovh",
        "cellView": "form"
      },
      "source": [
        "#@title Factor de calidad\n",
        "# FACTOR DE CALIDAD Q\n",
        "\n",
        "factor_q = 0\n",
        "if resistencia > 0:\n",
        "  factor_q = frecuencia_angular_resonancia*inductancia/resistencia"
      ],
      "execution_count": 9,
      "outputs": []
    },
    {
      "cell_type": "code",
      "metadata": {
        "id": "pcS84ejyDgbd",
        "cellView": "form"
      },
      "source": [
        "#@title Factor de potencia cosφ\n",
        "\n",
        "if z != 0:\n",
        "  factor_potencia = resistencia/z"
      ],
      "execution_count": 10,
      "outputs": []
    },
    {
      "cell_type": "code",
      "metadata": {
        "id": "8Ax_ARrwFxve",
        "cellView": "form"
      },
      "source": [
        "#@title Determinar la impedancia dominante\n",
        "# QUÉ IMPEDANCIA DOMINA EL COMPORTAMIENTO DEL CIRCUITO\n",
        "\n",
        "if resistencia > impedancia_capacitiva:\n",
        "  if resistencia > impedancia_inductiva:\n",
        "    impedancia_dominante = \"RESISTIVA\"\n",
        "  else:\n",
        "    impedancia_dominante = \"INDUCTIVA\"\n",
        "elif impedancia_capacitiva > impedancia_inductiva:\n",
        "  impedancia_dominante = \"CAPACITIVA\"\n",
        "else:\n",
        "  impedancia_dominante = \"INDUCTIVA\""
      ],
      "execution_count": 11,
      "outputs": []
    },
    {
      "cell_type": "markdown",
      "metadata": {
        "id": "HdMHBO2omK_5"
      },
      "source": [
        "# Generación de gráficos"
      ]
    },
    {
      "cell_type": "code",
      "metadata": {
        "id": "RtPNQAGhI8c3",
        "cellView": "form"
      },
      "source": [
        "#@title Diagrama de fasores\n",
        "# DIAGAMA DE FASORES DE TENSIONES\n",
        "\n",
        "\n",
        "\n",
        "# función auxiliar para calcular las coordenadas de dirección para cada vector\n",
        "direccion = lambda angulo, offset: np.array([np.cos(angulo+offset), np.sin(angulo + offset)])\n",
        "\n",
        "# definimos los vectores para cada fasor\n",
        "fasor_resistencia = [resistencia, 0]\n",
        "fasor_inductancia = [0,impedancia_inductiva]\n",
        "fasor_capacitancia = [0,-impedancia_capacitiva]\n",
        "fasor_z = [resistencia, impedancia_inductiva-impedancia_capacitiva]\n",
        "\n",
        "# finalmente creamos un vector auxiliar con los fasores escalados\n",
        "V = np.array([fasor_resistencia, fasor_inductancia, fasor_capacitancia, fasor_z])\n",
        "\n",
        "\n",
        "# indicamos cuadrícula, límites de los ejes, origen\n",
        "pyplot.figure(figsize=(9,7))\n",
        "origin = [0,0,0], [0,0,0] # origin point\n",
        "pyplot.xlim(-resistencia/10,resistencia+1)\n",
        "pyplot.ylim(-impedancia_capacitiva-1,impedancia_inductiva+1)\n",
        "pyplot.grid()\n",
        "\n",
        "# función de plot\n",
        "pyplot.quiver([0,0,0,0], [0,0,0,0], V[:,0], V[:,1], color=['r','b','g','k'],angles='xy',scale_units='xy',scale=1)"
      ],
      "execution_count": null,
      "outputs": []
    },
    {
      "cell_type": "code",
      "metadata": {
        "id": "dhkRpqKZV5ik",
        "cellView": "form"
      },
      "source": [
        "#@title Gráfico tensión - tiempo para la resistencia, la capacitancia y el inductor junto con la fuente \n",
        " # Las tensiones VL, VC, VR y ε superpuestas en el dominio del tiempo.\n",
        "\n",
        "# generamos un vector de 2000 elementos, con valores entre 0 y 2π en pasos de π/1000\n",
        "pi=np.pi\n",
        "t = [i for i in np.arange(0,4*pi,pi/1000)] \n",
        "t=np.array(t)/frecuencia\n",
        "\n",
        "angulo_fase = np.arctan((impedancia_inductiva-impedancia_capacitiva)/resistencia)\n",
        "# calculamos los puntos para las tensiones\n",
        "g_tension_fem = fem_maxima * np.sin(t*frecuencia)\n",
        "g_tension_resistor = intensidad_maxima * resistencia * np.sin(t*frecuencia - np.ones(len(t))*angulo_fase)\n",
        "g_tension_capacitor = intensidad_maxima * impedancia_capacitiva * np.sin(t*frecuencia-np.ones(len(t))*pi/2 - np.ones(len(t))*angulo_fase)\n",
        "g_tension_inductor = intensidad_maxima * impedancia_inductiva * np.sin(t*frecuencia+np.ones(len(t))*pi/2 - np.ones(len(t))*angulo_fase)\n",
        "\n",
        "pyplot.figure(figsize=(15,6))\n",
        "pyplot.plot(t, g_tension_fem, t,g_tension_resistor, t,g_tension_capacitor, t,g_tension_inductor, '-')\n",
        "\n",
        "# nombramos ejes y gráfico\n",
        "pyplot.xlabel(\"Tiempo [s]\")\n",
        "pyplot.ylabel(\"Tension [V]\")\n",
        "pyplot.title(\"Tensiones en el circuito\")\n",
        "pyplot.legend([\"FEM\", \"Tensión resistencia\",\"Tensión capacitor\", \"Tensión inductor\"])\n",
        "pyplot.figure(dpi=100)\n",
        "pyplot.show()"
      ],
      "execution_count": null,
      "outputs": []
    },
    {
      "cell_type": "code",
      "metadata": {
        "id": "jCuInj4FaKBv",
        "cellView": "form"
      },
      "source": [
        "#@title Ecuaciones para la tensión y la corriente\n",
        "# Las ecuaciones de la FEM y la corriente con los valores correspondientes a los datos de entrada.\n",
        "\n",
        "# ecuación para la tensión\n",
        "pyplot.text(1, 1,r'$\\epsilon = %1.2f V \\cdot sen {\\left( %1.2f s^{-1} \\cdot t \\right)} $'%(fem_maxima,omega),fontsize=26)\n",
        "\n",
        "# ecuación para la corriente\n",
        "pyplot.text(1, 0.8,r'$I = %1.2f A \\cdot sen {\\left(%1.2f s^{-1} \\cdot t - %1.2f º \\right)} $'%(intensidad_maxima,omega,angulo_fase/np.pi*180),fontsize=26)\n",
        "\n",
        "pyplot.axis('off')\n",
        "pyplot.show()"
      ],
      "execution_count": null,
      "outputs": []
    },
    {
      "cell_type": "code",
      "metadata": {
        "id": "ZzxqefLchSOD",
        "cellView": "form"
      },
      "source": [
        "#@title Diagrama del circuito y resumen de sus características\n",
        "# indicamos el tamaño de la figura que se va a dibujar\n",
        "pyplot.figure(num=None, figsize=(8, 6), dpi=80, facecolor='w', edgecolor='k')\n",
        "\n",
        "# cargamos y mostramos la imagen del circuito \n",
        "imagen_circuito = pyplot.imread(\"http://drive.google.com/uc?export=view&id=1RS7SmFY3ERKXRv_CiZjpW9o9dTdsmrvq\")\n",
        "pyplot.imshow(imagen_circuito)\n",
        "\n",
        "# dibujamos cuadros de texto con la resistencia, capacitancia, inductancia y tensión del circuito\n",
        "pyplot.text(120, 15, r\"%.2E Ω\" %(resistencia), fontsize=14, bbox=dict(facecolor='#eee', edgecolor='blue', pad=3.0))\n",
        "pyplot.text(20, 15, r\"%.2E F\" % (capacitancia), fontsize=14, bbox=dict(facecolor='#eee', edgecolor='blue', pad=3.0))\n",
        "pyplot.text(260, 70, r\"%.2E H\" % (inductancia), fontsize=14, bbox=dict(facecolor='#eee', edgecolor='blue', pad=3.0))\n",
        "pyplot.text(115, 200, r\"%.2E V \" % (fem_maxima), fontsize=14, bbox=dict(facecolor='#eee', edgecolor='blue', pad=3.0))\n",
        "pyplot.axis(\"off\")\n",
        "\n",
        "# a continuacióna armamos una tabla resumiendo las características del circuito\n",
        "\n",
        "# cabecera (izquierda) para la lista\n",
        "cabecera = [\n",
        "         \"Tensión fuente\", \n",
        "         \"Tensión resistencia\", \n",
        "         \"Tensión capacitancia\",\n",
        "         \"Tensión inductancia\", \n",
        "         \"Intensidad máxima\",\n",
        "         \"Potencia media\",\n",
        "         \"Factor Q\",\n",
        "         \"Factor de potencia\",\n",
        "         \"Impedancia Z\",\n",
        "         \"Frecuencia de resonancia\",\n",
        "         \"Impedancia dominante\",\n",
        "         \"Impedancia capacitiva\",\n",
        "         \"Impedancia inductiva\",\n",
        "         ]\n",
        "\n",
        "# contenido de las celdas para la tabla\n",
        "# separado en 3 secciones:\n",
        "# a. denominación de la variable\n",
        "# b. valor calculado\n",
        "# c. unidad correspondiente\n",
        "datos = list(zip(*[[\n",
        "                    r\"$\\epsilon_0$\",\n",
        "                    r\"$V_R$\",\n",
        "                    r\"$V_C$\",\n",
        "                    r\"$V_L$\",\n",
        "                    r\"$I_0$\",\n",
        "                    r\"$\\overline{P}$\",\n",
        "                    \"Q\",\n",
        "                    \"fp\",\n",
        "                    \"Z\",\n",
        "                    r\"$\\omega_0$\",\n",
        "                    \"IMP\",\n",
        "                    \"$X_C$\",\n",
        "                    \"$X_L$\"\n",
        "                  ],[\n",
        "                    fem_maxima, \n",
        "                    voltaje_resistencia,\n",
        "                    voltaje_capacitancia,\n",
        "                    voltaje_inductancia,\n",
        "                    intensidad_maxima,\n",
        "                    potencia_media,\n",
        "                    factor_q,\n",
        "                    factor_potencia,\n",
        "                    z,\n",
        "                    frecuencia_resonancia,\n",
        "                    impedancia_dominante,\n",
        "                    impedancia_capacitiva,\n",
        "                     impedancia_inductiva\n",
        "                  ],[\n",
        "                   \"V\",\n",
        "                   \"V\",\n",
        "                   \"V\",\n",
        "                   \"V\",\n",
        "                   \"A\",\n",
        "                   \"W\",\n",
        "                   \"-\",\n",
        "                   \"-\",\n",
        "                   \"Ω\",\n",
        "                   \"Hz\",\n",
        "                   \"-\",\n",
        "                   \"$\\Omega$\",\n",
        "                   \"$\\Omega$\"\n",
        "                   ]]))\n",
        "\n",
        "\n",
        "\n",
        "# dibujamos la tabla\n",
        "pyplot.table(rowLabels=cabecera, colLabels=[\"Denominación\", \"Valor\", \"Unidad\"], cellText=datos, loc=\"bottom\", cellLoc=\"center\").scale(2,3)\n",
        "pyplot.subplots_adjust(wspace=.5)\n"
      ],
      "execution_count": null,
      "outputs": []
    },
    {
      "cell_type": "markdown",
      "metadata": {
        "id": "KltkRozppJfp"
      },
      "source": [
        "```\n",
        "Autor: Sandro León Pastorini\n",
        "\n",
        "Universidad Tecnológica Nacional, Facultad Regional Concepción del Uruguay (UTN - FRCU)\n",
        "\n",
        "Cátedra: Física 2 (K952D)\n",
        "\n",
        "Profesor a cargo: Dra. Sonia Brühl\n",
        "Ayud. de 1era: Lic. Diego Conte\n",
        "Ayud. de 1era: Ing. Emanuel Dri\n",
        "\n",
        "28 de Julio de 2020\n",
        "\n",
        "```\n"
      ]
    }
  ]
}